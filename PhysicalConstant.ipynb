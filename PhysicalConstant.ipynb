{
 "cells": [
  {
   "cell_type": "markdown",
   "metadata": {},
   "source": [
    "# PhysicalConstant.jl explained in a Jupyter Notebook"
   ]
  },
  {
   "cell_type": "markdown",
   "metadata": {},
   "source": [
    "This library contains Mathematical and Physical Constants to produce macro and micro-physics relations. It integrates with IJulia, outputting mathematical and Physical Constants to the notebook.\n",
    "\n",
    "search: ⊻ ⊋ ⊊ ⊉ ⊈ ⊇ ⊆ ≥ ≤ ≢ ≡ ≠ ≉ ≈ ∪ ∩ ∛ √ ∘ ∌ ∋ ∉ ∈ ℯ π ÷ ~ | ^ \\ > < : / - + α ƛe m_e m_p m_h"
   ]
  },
  {
   "cell_type": "markdown",
   "metadata": {},
   "source": [
    "## Pre requisite"
   ]
  },
  {
   "cell_type": "markdown",
   "metadata": {},
   "source": [
    "Add Conda"
   ]
  },
  {
   "cell_type": "markdown",
   "metadata": {},
   "source": [
    "#*(Optional)*\n",
    "import Pkg;\n",
    "Pkg.add(\"Conda\")"
   ]
  },
  {
   "cell_type": "markdown",
   "metadata": {},
   "source": [
    "set the environment variables"
   ]
  },
  {
   "cell_type": "code",
   "execution_count": 3,
   "metadata": {},
   "outputs": [
    {
     "data": {
      "text/plain": [
       "\"/srv/julia/pkg/conda/3\""
      ]
     },
     "execution_count": 3,
     "metadata": {},
     "output_type": "execute_result"
    }
   ],
   "source": [
    "#*(Required)*\n",
    "#ENV[\"PYTHON\"] = \"/srv/conda/bin/python3\"\n",
    "ENV[\"PYTHON\"] = \"/srv/julia/pkg/conda/3\"\n",
    "# ENV[\"PYTHON\"] = \"C:\\\\Python37-x64\\\\python.exe\" # example for Windows\n",
    "# ENV[\"PYTHON\"] = \"/usr/bin/python3.7\"           # example for *nix\n",
    "#Pkg.build(\"PyCall\")"
   ]
  },
  {
   "cell_type": "markdown",
   "metadata": {},
   "source": [
    "Add PyCall"
   ]
  },
  {
   "cell_type": "markdown",
   "metadata": {},
   "source": [
    "(Optional)\n",
    "import Pkg; Pkg.add(\"PyCall\")"
   ]
  },
  {
   "cell_type": "markdown",
   "metadata": {},
   "source": [
    "## Pkg update of PhysicalConstant"
   ]
  },
  {
   "cell_type": "markdown",
   "metadata": {},
   "source": [
    "#*(Optional)*\n",
    "\n",
    "using Pkg\n",
    "Pkg.update(\"PhysicalConstant\")"
   ]
  },
  {
   "cell_type": "markdown",
   "metadata": {},
   "source": [
    "Optional steps:\n",
    "* Install matplotlib\n",
    "* Install numpy\n",
    "* Install scipy"
   ]
  },
  {
   "cell_type": "markdown",
   "metadata": {},
   "source": [
    "#*(Optional)*\n",
    "#Pkg.build(\"PyCall\")\n",
    "using Conda\n",
    "#Conda.add(\"matplotlib\", :my_env)\n",
    "Conda.add(\"matplotlib\", \"/srv/julia/pkg/conda/3\")\n"
   ]
  },
  {
   "cell_type": "markdown",
   "metadata": {},
   "source": [
    "#*(Optional)*\n",
    "using Conda\n",
    "Conda.add(\"numpy\", \"/srv/julia/pkg/conda/3\")"
   ]
  },
  {
   "cell_type": "markdown",
   "metadata": {},
   "source": [
    "#*(Optional)*\n",
    "using Conda\n",
    "Conda.add(\"scipy\", \"/srv/julia/pkg/conda/3\")"
   ]
  },
  {
   "cell_type": "markdown",
   "metadata": {},
   "source": [
    "## Pkg Status"
   ]
  },
  {
   "cell_type": "markdown",
   "metadata": {},
   "source": [
    "List all Conda modules"
   ]
  },
  {
   "cell_type": "markdown",
   "metadata": {},
   "source": [
    "#*(Optional)*\n",
    "import Conda\n",
    "Conda.list()"
   ]
  },
  {
   "cell_type": "markdown",
   "metadata": {},
   "source": [
    "Check if PhysicalConstant is installed"
   ]
  },
  {
   "cell_type": "code",
   "execution_count": 5,
   "metadata": {},
   "outputs": [
    {
     "name": "stdout",
     "output_type": "stream",
     "text": [
      "\u001b[36m\u001b[1mProject \u001b[22m\u001b[39mPhysicalConstant v0.0.3\n",
      "\u001b[32m\u001b[1m    Status\u001b[22m\u001b[39m `~/Project.toml`\n",
      " \u001b[90m [8f4d0f93]\u001b[39m\u001b[92m + Conda v1.2.0\u001b[39m\n",
      " \u001b[90m [e30172f5]\u001b[39m\u001b[92m + Documenter v0.22.3\u001b[39m\n",
      " \u001b[90m [eff96d63]\u001b[39m\u001b[92m + Measurements v2.0.0\u001b[39m\n",
      " \u001b[90m [438e738f]\u001b[39m\u001b[92m + PyCall v1.91.2\u001b[39m\n",
      " \u001b[90m [1986cc42]\u001b[39m\u001b[92m + Unitful v0.15.0\u001b[39m\n"
     ]
    }
   ],
   "source": [
    "import Pkg; Pkg.status()"
   ]
  },
  {
   "cell_type": "markdown",
   "metadata": {},
   "source": [
    "## Pkg Installation / Pkg De-installation"
   ]
  },
  {
   "cell_type": "markdown",
   "metadata": {},
   "source": [
    "To remove the package run"
   ]
  },
  {
   "cell_type": "markdown",
   "metadata": {},
   "source": [
    "#*(Optional)*\n",
    "using Pkg\n",
    "Pkg.rm(\"PhysicalConstant\")"
   ]
  },
  {
   "cell_type": "markdown",
   "metadata": {},
   "source": [
    "To install the package run"
   ]
  },
  {
   "cell_type": "markdown",
   "metadata": {},
   "source": [
    "#*(Optional)*\n",
    "using Pkg\n",
    "Pkg.add(\"PhysicalConstant\")"
   ]
  },
  {
   "cell_type": "markdown",
   "metadata": {},
   "source": [
    "Install PyPlot "
   ]
  },
  {
   "cell_type": "markdown",
   "metadata": {},
   "source": [
    "#*(Optional)*\n",
    "import Pkg; Pkg.add(\"PyPlot\")"
   ]
  },
  {
   "cell_type": "markdown",
   "metadata": {},
   "source": [
    "## Update"
   ]
  },
  {
   "cell_type": "markdown",
   "metadata": {},
   "source": [
    "#*(Optional)*\n",
    "using Pkg\n",
    "Pkg.update(\"PhysicalConstant\")"
   ]
  },
  {
   "cell_type": "markdown",
   "metadata": {},
   "source": [
    "In addition, you will need to install the following dependencies if you do not already have them on your system.\n",
    "\n",
    "* Measurements and Unitful. These are required by PhysicalConstant. On Julia, you can get this by running `Pkg.add(Unitful)`. \n",
    "\n",
    "In addition, you may optionally want to use pdf2svg on Windows, you can download the binaries from http://www.cityinthesky.co.uk/opensource/pdf2svg/. Be sure to add pdf2svg to your path (and restart).\n",
    "* Pgf (version 3.0 or later). Install using your latex package manager (e.g., texlive or miktex).\n",
    "\n",
    "Once these things are installed, you should be able to run the following:"
   ]
  },
  {
   "cell_type": "markdown",
   "metadata": {},
   "source": [
    "## Examples of CODATA2019 Constants "
   ]
  },
  {
   "cell_type": "code",
   "execution_count": 25,
   "metadata": {},
   "outputs": [],
   "source": [
    "#*(Required)*\n",
    "using PhysicalConstant.CODATA2019\n",
    "using Measurements\n",
    "using Unitful"
   ]
  },
  {
   "cell_type": "markdown",
   "metadata": {},
   "source": [
    "Planck's h constant"
   ]
  },
  {
   "cell_type": "code",
   "execution_count": 10,
   "metadata": {},
   "outputs": [
    {
     "data": {
      "text/plain": [
       "Planck constant (h)\n",
       "Value                         = 6.62607004e-34 J s\n",
       "Standard uncertainty          = 8.1e-42 J s\n",
       "Relative standard uncertainty = 1.2e-8\n",
       "Reference                     = CODATA 2019"
      ]
     },
     "execution_count": 10,
     "metadata": {},
     "output_type": "execute_result"
    }
   ],
   "source": [
    "CODATA2019.h"
   ]
  },
  {
   "cell_type": "code",
   "execution_count": 95,
   "metadata": {},
   "outputs": [
    {
     "data": {
      "text/plain": [
       "Fine-structure constant (α)\n",
       "Value                         = 0.0072973525664\n",
       "Standard uncertainty          = 1.7e-12\n",
       "Relative standard uncertainty = 2.3e-10\n",
       "Reference                     = CODATA 2019"
      ]
     },
     "execution_count": 95,
     "metadata": {},
     "output_type": "execute_result"
    }
   ],
   "source": [
    "CODATA2019.FineStructureConstant"
   ]
  },
  {
   "cell_type": "code",
   "execution_count": 96,
   "metadata": {},
   "outputs": [
    {
     "data": {
      "text/plain": [
       "Newtonian constant of gravitation (G)\n",
       "Value                         = 6.67408e-11 m^3 kg^-1 s^-2\n",
       "Standard uncertainty          = 3.1e-15 m^3 kg^-1 s^-2\n",
       "Relative standard uncertainty = 4.6e-5\n",
       "Reference                     = CODATA 2019"
      ]
     },
     "execution_count": 96,
     "metadata": {},
     "output_type": "execute_result"
    }
   ],
   "source": [
    "CODATA2019.G"
   ]
  },
  {
   "cell_type": "markdown",
   "metadata": {},
   "source": [
    "Reduceed Electron Compton Wavelength"
   ]
  },
  {
   "cell_type": "markdown",
   "metadata": {},
   "source": [
    "Reduced Electron Compton Wavelength equation:\n",
    "\n",
    "ƛ$_{e}$=$\\hbar/m_{e}\\cdot c$"
   ]
  },
  {
   "cell_type": "code",
   "execution_count": 50,
   "metadata": {},
   "outputs": [
    {
     "data": {
      "text/plain": [
       "3.8615926754860414e-13 J s^2 kg^-1 m^-1"
      ]
     },
     "execution_count": 50,
     "metadata": {},
     "output_type": "execute_result"
    }
   ],
   "source": [
    "CODATA2019.PlanckConstantOver2pi/(CODATA2019.m_e*CODATA2019.c_0)"
   ]
  },
  {
   "cell_type": "code",
   "execution_count": 51,
   "metadata": {},
   "outputs": [
    {
     "data": {
      "text/plain": [
       "3.861592676452718338399364915357181343914809630867925459864883008800725803939552e-13"
      ]
     },
     "execution_count": 51,
     "metadata": {},
     "output_type": "execute_result"
    }
   ],
   "source": [
    "# Reduced electron Compton wavelength\n",
    "big(2.4263102367*10^-12)/big(2pi)"
   ]
  },
  {
   "cell_type": "code",
   "execution_count": 13,
   "metadata": {},
   "outputs": [
    {
     "data": {
      "text/plain": [
       "1.5244956826076587e-11 J s^2 kg^-1 m^-1"
      ]
     },
     "execution_count": 13,
     "metadata": {},
     "output_type": "execute_result"
    }
   ],
   "source": [
    "(CODATA2019.h*2pi)/(CODATA2019.m_e*CODATA2019.c_0)"
   ]
  },
  {
   "cell_type": "markdown",
   "metadata": {},
   "source": [
    "ΔνCs\n",
    "the unperturbed ground state hyperfine transition frequency of the caesium-133 atom in Hz"
   ]
  },
  {
   "cell_type": "code",
   "execution_count": 18,
   "metadata": {},
   "outputs": [
    {
     "data": {
      "text/plain": [
       "9.19263177e+09"
      ]
     },
     "execution_count": 18,
     "metadata": {},
     "output_type": "execute_result"
    }
   ],
   "source": [
    "Measurements.value(big(CODATA2019.ΔνCs))"
   ]
  },
  {
   "cell_type": "markdown",
   "metadata": {},
   "source": [
    "Electron Proton Hydrogen product\n",
    "\n",
    "$m_e*m_p*m_h$"
   ]
  },
  {
   "cell_type": "code",
   "execution_count": null,
   "metadata": {},
   "outputs": [],
   "source": [
    "@time begin\n",
    "using PhysicalConstant.CODATA2019\n",
    "big(CODATA2019.ElectronMass*CODATA2019.ProtonMass*CODATA2019.HydrogenMass)\n",
    "end"
   ]
  },
  {
   "cell_type": "code",
   "execution_count": 119,
   "metadata": {},
   "outputs": [
    {
     "data": {
      "text/plain": [
       "3.8877084059945686877402831236617906547557888982098378752e+55"
      ]
     },
     "execution_count": 119,
     "metadata": {},
     "output_type": "execute_result"
    }
   ],
   "source": [
    "Measurements.value(big((MathPhysicalConstants.SI.e^128)-1))"
   ]
  },
  {
   "cell_type": "markdown",
   "metadata": {},
   "source": [
    "# Calculate the visible Universe horizon radius"
   ]
  },
  {
   "cell_type": "markdown",
   "metadata": {},
   "source": [
    "Using the regular CODATA2019 Gravitational Constant"
   ]
  },
  {
   "cell_type": "code",
   "execution_count": 73,
   "metadata": {},
   "outputs": [
    {
     "data": {
      "text/plain": [
       "Newtonian constant of gravitation (G)\n",
       "Value                         = 6.67408e-11 m^3 kg^-1 s^-2\n",
       "Standard uncertainty          = 3.1e-15 m^3 kg^-1 s^-2\n",
       "Relative standard uncertainty = 4.6e-5\n",
       "Reference                     = CODATA 2019"
      ]
     },
     "execution_count": 73,
     "metadata": {},
     "output_type": "execute_result"
    }
   ],
   "source": [
    "CODATA2019.G"
   ]
  },
  {
   "cell_type": "markdown",
   "metadata": {},
   "source": [
    "Using Sanchez's Gravitational Constant"
   ]
  },
  {
   "cell_type": "code",
   "execution_count": 5,
   "metadata": {},
   "outputs": [
    {
     "data": {
      "text/plain": [
       "6.675453818e-11"
      ]
     },
     "execution_count": 5,
     "metadata": {},
     "output_type": "execute_result"
    }
   ],
   "source": [
    "CODATA2019.SanchezGravitationalConstant"
   ]
  },
  {
   "cell_type": "markdown",
   "metadata": {},
   "source": [
    "## Let's first determine the gravitational coupling constant: \n",
    "\n",
    "https://en.wikipedia.org/wiki/Gravitational_coupling_constant\n",
    "\n",
    "One determines the Gravitational Coupling Constant: \n",
    "### $a_{G}$ $=$ $\\hbar$$c$ $/$ $G$$m_{p}$$m_{H}$"
   ]
  },
  {
   "cell_type": "code",
   "execution_count": 4,
   "metadata": {},
   "outputs": [
    {
     "data": {
      "text/plain": [
       "1.32613243113089e-69"
      ]
     },
     "execution_count": 4,
     "metadata": {},
     "output_type": "execute_result"
    }
   ],
   "source": [
    "# $a_{G}$ = $\\hbar$$c$/$G$$m_{p}$$m_{H}$\n",
    "(CODATA2019.PlanckConstantHbar*CODATA2019.c_0)/(CODATA2019.G*CODATA2019.MassProton*CODATA2019.MassHydrogen)"
   ]
  },
  {
   "cell_type": "code",
   "execution_count": 6,
   "metadata": {},
   "outputs": [
    {
     "data": {
      "text/plain": [
       "1.3258595111686009e-69"
      ]
     },
     "execution_count": 6,
     "metadata": {},
     "output_type": "execute_result"
    }
   ],
   "source": [
    "# $a_{G}$ = $\\hbar$$c$/$G$$m_{p}$$m_{H}$\n",
    "CODATA2019.PlanckConstantHbar*CODATA2019.c_0/CODATA2019.SanchezGravitationalConstant*CODATA2019.MassProton*CODATA2019.MassHydrogen"
   ]
  },
  {
   "cell_type": "markdown",
   "metadata": {},
   "source": [
    "## Visible Universe horizon radius calculation (distance)\n",
    "\n",
    "### $R$ $=$ $2a_{G}$ƛ$_{e}$"
   ]
  },
  {
   "cell_type": "markdown",
   "metadata": {},
   "source": [
    "Using the regular CODATA2019 Gravitational Constant"
   ]
  },
  {
   "cell_type": "code",
   "execution_count": 123,
   "metadata": {},
   "outputs": [
    {
     "data": {
      "text/plain": [
       "1.3068334634480155e26"
      ]
     },
     "execution_count": 123,
     "metadata": {},
     "output_type": "execute_result"
    }
   ],
   "source": [
    "# R = 2a_{G} \\lambdabar_{e}\n",
    "R = 2*((CODATA2019.PlanckConstantHbar*SI.c)/(CODATA2019.GravitationalConstant*CODATA2019.MassProton*CODATA2019.MassHydrogen))*CODATA2019.ƛe"
   ]
  },
  {
   "cell_type": "code",
   "execution_count": null,
   "metadata": {},
   "outputs": [],
   "source": [
    "2*((CODATA2019.PlanckConstantOver2pi*CODATA2019.c_0)/(CODATA2019.NewtonianConstantOfGravitation*CODATA2019."
   ]
  },
  {
   "cell_type": "markdown",
   "metadata": {},
   "source": [
    "Using Sanchez's Gravitational Constant"
   ]
  },
  {
   "cell_type": "code",
   "execution_count": 11,
   "metadata": {},
   "outputs": [
    {
     "data": {
      "text/plain": [
       "1.3065645152410416e26"
      ]
     },
     "execution_count": 11,
     "metadata": {},
     "output_type": "execute_result"
    }
   ],
   "source": [
    "# R = 2a_{G} \\lambdabar_{e}\n",
    "R = 2*((CODATA2019.PlanckConstantHbar*CODATA2019.c_0)/(CODATA2019.SanchezGravitationalConstant*CODATA2019.MassProton*CODATA2019.MassHydrogen))*SI.ƛe"
   ]
  },
  {
   "cell_type": "markdown",
   "metadata": {},
   "source": [
    "## Calculate the result in ly (LightYears) equivalent\n",
    "\n",
    "Notice that one obtain a distance equivalent to 1.3813524253217268e10 ly or 13.813524253217268 Gly"
   ]
  },
  {
   "cell_type": "markdown",
   "metadata": {},
   "source": [
    "Using the regular CODATA2019 Gravitational Constant"
   ]
  },
  {
   "cell_type": "code",
   "execution_count": 4,
   "metadata": {},
   "outputs": [
    {
     "ename": "UndefVarError",
     "evalue": "UndefVarError: SI not defined",
     "output_type": "error",
     "traceback": [
      "UndefVarError: SI not defined",
      "",
      "Stacktrace:",
      " [1] top-level scope at In[4]:1"
     ]
    }
   ],
   "source": [
    "1.3068334634480155e26/SI.LightYear"
   ]
  },
  {
   "cell_type": "markdown",
   "metadata": {},
   "source": [
    "Using Sanchez's Gravitational Constant"
   ]
  },
  {
   "cell_type": "code",
   "execution_count": 13,
   "metadata": {},
   "outputs": [
    {
     "data": {
      "text/plain": [
       "1.3810681410051859e10"
      ]
     },
     "execution_count": 13,
     "metadata": {},
     "output_type": "execute_result"
    }
   ],
   "source": [
    "\n",
    "1.3065645152410416e26/SI.LightYear"
   ]
  },
  {
   "cell_type": "markdown",
   "metadata": {},
   "source": [
    "## Other PhysicalConstant Examples"
   ]
  },
  {
   "cell_type": "code",
   "execution_count": 5,
   "metadata": {},
   "outputs": [
    {
     "data": {
      "text/plain": [
       "Bare Hydrogen radius (r_0)\n",
       "Value                         = 5.291772103e-11 m\n",
       "Standard uncertainty          = 1.2e-20 m\n",
       "Relative standard uncertainty = 2.3e-10\n",
       "Reference                     = CODATA 2019"
      ]
     },
     "execution_count": 5,
     "metadata": {},
     "output_type": "execute_result"
    }
   ],
   "source": [
    "CODATA2019.BareHydrogenRadius"
   ]
  },
  {
   "cell_type": "code",
   "execution_count": 13,
   "metadata": {},
   "outputs": [
    {
     "data": {
      "text/plain": [
       "Bare Hydrogen radius (r_0)\n",
       "Value                         = 5.291772103e-11 m\n",
       "Standard uncertainty          = 1.2e-20 m\n",
       "Relative standard uncertainty = 2.3e-10\n",
       "Reference                     = CODATA 2019"
      ]
     },
     "execution_count": 13,
     "metadata": {},
     "output_type": "execute_result"
    }
   ],
   "source": [
    "CODATA2019.r_0"
   ]
  },
  {
   "cell_type": "code",
   "execution_count": 6,
   "metadata": {},
   "outputs": [
    {
     "data": {
      "text/plain": [
       "Gravitational velocity in interstellar vacuum (C_0)\n",
       "Value                         = 3.6993e44 m s^-1\n",
       "Standard uncertainty          = (exact)\n",
       "Relative standard uncertainty = (exact)\n",
       "Reference                     = J. Maruani in Dirac Electron"
      ]
     },
     "execution_count": 6,
     "metadata": {},
     "output_type": "execute_result"
    }
   ],
   "source": [
    "CODATA2019.C_0"
   ]
  },
  {
   "cell_type": "code",
   "execution_count": 7,
   "metadata": {},
   "outputs": [
    {
     "data": {
      "text/plain": [
       "CMB temperature in K (CmB)\n",
       "Value                         = 2.725820831 K^-1\n",
       "Standard uncertainty          = (exact)\n",
       "Relative standard uncertainty = (exact)\n",
       "Reference                     = Francis M. Sanchez"
      ]
     },
     "execution_count": 7,
     "metadata": {},
     "output_type": "execute_result"
    }
   ],
   "source": [
    "CODATA2019.CmB"
   ]
  },
  {
   "cell_type": "code",
   "execution_count": 8,
   "metadata": {},
   "outputs": [
    {
     "data": {
      "text/plain": [
       "CMB temperature in K (CmB)\n",
       "Value                         = 2.725820831 K^-1\n",
       "Standard uncertainty          = (exact)\n",
       "Relative standard uncertainty = (exact)\n",
       "Reference                     = Francis M. Sanchez"
      ]
     },
     "execution_count": 8,
     "metadata": {},
     "output_type": "execute_result"
    }
   ],
   "source": [
    "CODATA2019.CmbTemperature"
   ]
  },
  {
   "cell_type": "code",
   "execution_count": 9,
   "metadata": {},
   "outputs": [
    {
     "data": {
      "text/plain": [
       "Gravitational velocity in interstellar vacuum (C_0)\n",
       "Value                         = 3.6993e44 m s^-1\n",
       "Standard uncertainty          = (exact)\n",
       "Relative standard uncertainty = (exact)\n",
       "Reference                     = J. Maruani in Dirac Electron"
      ]
     },
     "execution_count": 9,
     "metadata": {},
     "output_type": "execute_result"
    }
   ],
   "source": [
    "CODATA2019.GravitationalVelocity"
   ]
  },
  {
   "cell_type": "code",
   "execution_count": 47,
   "metadata": {},
   "outputs": [
    {
     "data": {
      "text/plain": [
       "Reduced Compton Electron Wavelength (ƛe)\n",
       "Value                         = 1.38064852e-23\n",
       "Standard uncertainty          = (exact)\n",
       "Relative standard uncertainty = (exact)\n",
       "Reference                     = CODATA 2019"
      ]
     },
     "execution_count": 47,
     "metadata": {},
     "output_type": "execute_result"
    }
   ],
   "source": [
    "CODATA2019.RedComptonElectrWavlgth"
   ]
  },
  {
   "cell_type": "code",
   "execution_count": 38,
   "metadata": {},
   "outputs": [
    {
     "data": {
      "text/plain": [
       "Reduced Compton Electron Wavelength (ƛe)\n",
       "Value                         = 1.38064852e-23\n",
       "Standard uncertainty          = (exact)\n",
       "Relative standard uncertainty = (exact)\n",
       "Reference                     = CODATA 2019"
      ]
     },
     "execution_count": 38,
     "metadata": {},
     "output_type": "execute_result"
    }
   ],
   "source": [
    "CODATA2019.ƛe"
   ]
  },
  {
   "cell_type": "code",
   "execution_count": 14,
   "metadata": {},
   "outputs": [
    {
     "data": {
      "text/plain": [
       "Fine-structure constant (α)\n",
       "Value                         = 0.0072973525664\n",
       "Standard uncertainty          = 1.7e-12\n",
       "Relative standard uncertainty = 2.3e-10\n",
       "Reference                     = CODATA 2019"
      ]
     },
     "execution_count": 14,
     "metadata": {},
     "output_type": "execute_result"
    }
   ],
   "source": [
    "CODATA2019.FineStructureConstant"
   ]
  },
  {
   "cell_type": "code",
   "execution_count": 15,
   "metadata": {},
   "outputs": [
    {
     "data": {
      "text/plain": [
       "Fine-structure constant (α)\n",
       "Value                         = 0.0072973525664\n",
       "Standard uncertainty          = 1.7e-12\n",
       "Relative standard uncertainty = 2.3e-10\n",
       "Reference                     = CODATA 2019"
      ]
     },
     "execution_count": 15,
     "metadata": {},
     "output_type": "execute_result"
    }
   ],
   "source": [
    "CODATA2019.α"
   ]
  },
  {
   "cell_type": "code",
   "execution_count": 16,
   "metadata": {},
   "outputs": [
    {
     "data": {
      "text/plain": [
       "Sanchez constant of gravitation (G)\n",
       "Value                         = 6.67545e-11 m^3 kg^-1 s^-2\n",
       "Standard uncertainty          = 3.1e-15 m^3 kg^-1 s^-2\n",
       "Relative standard uncertainty = 4.6e-5\n",
       "Reference                     = Francis M. Sanchez"
      ]
     },
     "execution_count": 16,
     "metadata": {},
     "output_type": "execute_result"
    }
   ],
   "source": [
    "CODATA2019.SanchezGravitationalConstant"
   ]
  },
  {
   "cell_type": "code",
   "execution_count": 20,
   "metadata": {},
   "outputs": [
    {
     "data": {
      "text/plain": [
       "Newtonian constant of gravitation (Gg)\n",
       "Value                         = 6.67408e-11 m^3 kg^-1 s^-2\n",
       "Standard uncertainty          = 3.1e-15 m^3 kg^-1 s^-2\n",
       "Relative standard uncertainty = 4.6e-5\n",
       "Reference                     = CODATA 2019"
      ]
     },
     "execution_count": 20,
     "metadata": {},
     "output_type": "execute_result"
    }
   ],
   "source": [
    "CODATA2019.Gg"
   ]
  },
  {
   "cell_type": "code",
   "execution_count": 23,
   "metadata": {},
   "outputs": [
    {
     "data": {
      "text/plain": [
       "Electron mass at rest (m_e)\n",
       "Value                         = 9.10938356e-31 kg\n",
       "Standard uncertainty          = 1.1e-38 kg\n",
       "Relative standard uncertainty = 1.2e-8\n",
       "Reference                     = CODATA 2019"
      ]
     },
     "execution_count": 23,
     "metadata": {},
     "output_type": "execute_result"
    }
   ],
   "source": [
    "CODATA2019.m_e"
   ]
  },
  {
   "cell_type": "code",
   "execution_count": 39,
   "metadata": {},
   "outputs": [
    {
     "data": {
      "text/plain": [
       "Proton mass (m_p)\n",
       "Value                         = 1.672621898e-27 kg\n",
       "Standard uncertainty          = 2.1e-35 kg\n",
       "Relative standard uncertainty = 1.3e-8\n",
       "Reference                     = CODATA 2019"
      ]
     },
     "execution_count": 39,
     "metadata": {},
     "output_type": "execute_result"
    }
   ],
   "source": [
    "CODATA2019.m_p"
   ]
  },
  {
   "cell_type": "code",
   "execution_count": 45,
   "metadata": {},
   "outputs": [
    {
     "data": {
      "text/plain": [
       "ℯ = 2.7182818284590..."
      ]
     },
     "execution_count": 45,
     "metadata": {},
     "output_type": "execute_result"
    }
   ],
   "source": [
    "# ℯ for Euler's number \n",
    "CODATA2019.ℯ"
   ]
  },
  {
   "cell_type": "code",
   "execution_count": 46,
   "metadata": {},
   "outputs": [
    {
     "data": {
      "text/plain": [
       "Elementary charge (e)\n",
       "Value                         = 1.6021766208e-19 C\n",
       "Standard uncertainty          = 9.8e-28 C\n",
       "Relative standard uncertainty = 6.1e-9\n",
       "Reference                     = CODATA 2019"
      ]
     },
     "execution_count": 46,
     "metadata": {},
     "output_type": "execute_result"
    }
   ],
   "source": [
    "# e for Elementary charge\n",
    "CODATA2019.e"
   ]
  },
  {
   "cell_type": "code",
   "execution_count": null,
   "metadata": {},
   "outputs": [],
   "source": []
  },
  {
   "cell_type": "code",
   "execution_count": null,
   "metadata": {},
   "outputs": [],
   "source": []
  },
  {
   "cell_type": "code",
   "execution_count": 42,
   "metadata": {},
   "outputs": [],
   "source": [
    "using PhysicalConstant.CODATA2019\n",
    "import PhysicalConstant.CODATA2019: h, ƛe\n",
    "using Measurements\n",
    "using Unitful\n"
   ]
  },
  {
   "cell_type": "code",
   "execution_count": null,
   "metadata": {},
   "outputs": [],
   "source": []
  },
  {
   "cell_type": "code",
   "execution_count": 43,
   "metadata": {},
   "outputs": [
    {
     "data": {
      "text/plain": [
       "true"
      ]
     },
     "execution_count": 43,
     "metadata": {},
     "output_type": "execute_result"
    }
   ],
   "source": [
    "ustrip(big(h)) == big\"6.626070040e-34\""
   ]
  },
  {
   "cell_type": "code",
   "execution_count": 44,
   "metadata": {},
   "outputs": [
    {
     "data": {
      "text/plain": [
       "false"
      ]
     },
     "execution_count": 44,
     "metadata": {},
     "output_type": "execute_result"
    }
   ],
   "source": [
    "ustrip(big(ƛe)) == big\"1.38064852e-23\""
   ]
  },
  {
   "cell_type": "code",
   "execution_count": null,
   "metadata": {},
   "outputs": [],
   "source": []
  },
  {
   "cell_type": "markdown",
   "metadata": {},
   "source": [
    "Try PhysicalConstant With PyCall, Numpy, Scipy and PyPlot"
   ]
  },
  {
   "cell_type": "code",
   "execution_count": 15,
   "metadata": {},
   "outputs": [
    {
     "name": "stdout",
     "output_type": "stream",
     "text": [
      "\u001b[32m\u001b[1m Resolving\u001b[22m\u001b[39m package versions...\n",
      "\u001b[32m\u001b[1m Installed\u001b[22m\u001b[39m FixedPointNumbers ─ v0.5.3\n",
      "\u001b[32m\u001b[1m Installed\u001b[22m\u001b[39m Reexport ────────── v0.2.0\n",
      "\u001b[32m\u001b[1m Installed\u001b[22m\u001b[39m ColorTypes ──────── v0.7.5\n",
      "\u001b[32m\u001b[1m Installed\u001b[22m\u001b[39m Colors ──────────── v0.9.5\n",
      "\u001b[32m\u001b[1m Installed\u001b[22m\u001b[39m LaTeXStrings ────── v1.0.3\n",
      "\u001b[32m\u001b[1m Installed\u001b[22m\u001b[39m PyPlot ──────────── v2.8.1\n",
      "\u001b[32m\u001b[1m  Updating\u001b[22m\u001b[39m `~/Project.toml`\n",
      " \u001b[90m [d330b81b]\u001b[39m\u001b[92m + PyPlot v2.8.1\u001b[39m\n",
      "\u001b[32m\u001b[1m  Updating\u001b[22m\u001b[39m `~/Manifest.toml`\n",
      " \u001b[90m [3da002f7]\u001b[39m\u001b[92m + ColorTypes v0.7.5\u001b[39m\n",
      " \u001b[90m [5ae59095]\u001b[39m\u001b[92m + Colors v0.9.5\u001b[39m\n",
      " \u001b[90m [53c48c17]\u001b[39m\u001b[92m + FixedPointNumbers v0.5.3\u001b[39m\n",
      " \u001b[90m [b964fa9f]\u001b[39m\u001b[92m + LaTeXStrings v1.0.3\u001b[39m\n",
      " \u001b[90m [d330b81b]\u001b[39m\u001b[92m + PyPlot v2.8.1\u001b[39m\n",
      " \u001b[90m [189a3867]\u001b[39m\u001b[92m + Reexport v0.2.0\u001b[39m\n"
     ]
    }
   ],
   "source": [
    "import Pkg; Pkg.add(\"PyPlot\")"
   ]
  },
  {
   "cell_type": "code",
   "execution_count": 26,
   "metadata": {},
   "outputs": [
    {
     "data": {
      "text/plain": [
       "0.7071067811865475"
      ]
     },
     "execution_count": 26,
     "metadata": {},
     "output_type": "execute_result"
    }
   ],
   "source": [
    "#python\n",
    "#import numpy\n",
    "#print(np.pi)\n",
    "using PyCall\n",
    "#math = pyimport(\"math\")\n",
    "@pyimport numpy\n",
    "numpy.sin(numpy.pi / 4) # returns ≈ 1/√2 = 0.70710678...\n",
    "#math.pi"
   ]
  },
  {
   "cell_type": "markdown",
   "metadata": {},
   "source": [
    "Atiyah's $\\Gamma$ in Physics\n",
    "\n",
    "* Γ = γa/π"
   ]
  },
  {
   "cell_type": "code",
   "execution_count": 91,
   "metadata": {},
   "outputs": [
    {
     "data": {
      "text/plain": [
       "0.5772156649015329"
      ]
     },
     "execution_count": 91,
     "metadata": {},
     "output_type": "execute_result"
    }
   ],
   "source": [
    "γ = np.euler_gamma"
   ]
  },
  {
   "cell_type": "code",
   "execution_count": 92,
   "metadata": {},
   "outputs": [
    {
     "data": {
      "text/plain": [
       "137.03599913815452"
      ]
     },
     "execution_count": 92,
     "metadata": {},
     "output_type": "execute_result"
    }
   ],
   "source": [
    "a = inv(CODATA2019.FineStructureConstant)"
   ]
  },
  {
   "cell_type": "code",
   "execution_count": 93,
   "metadata": {},
   "outputs": [
    {
     "data": {
      "text/plain": [
       "3.141592653589793"
      ]
     },
     "execution_count": 93,
     "metadata": {},
     "output_type": "execute_result"
    }
   ],
   "source": [
    "π = np.pi"
   ]
  },
  {
   "cell_type": "code",
   "execution_count": 94,
   "metadata": {},
   "outputs": [
    {
     "data": {
      "text/plain": [
       "25.178097251911886"
      ]
     },
     "execution_count": 94,
     "metadata": {},
     "output_type": "execute_result"
    }
   ],
   "source": [
    "Γ = γ*a/π"
   ]
  },
  {
   "cell_type": "code",
   "execution_count": 71,
   "metadata": {},
   "outputs": [
    {
     "data": {
      "image/png": "[encoded data removed]",
      "text/plain": [
       "Figure(PyObject <Figure size 640x480 with 1 Axes>)"
      ]
     },
     "metadata": {},
     "output_type": "display_data"
    }
   ],
   "source": [
    "using PyPlot\n",
    "using PyCall\n",
    "@pyimport math\n",
    "@pyimport numpy as np\n",
    "\n",
    "x = np.linspace(0,8*np.pi^2/log(2),30); y = np.sin(3*x +np.cos(x));\n",
    "scatter(x, y, color=\"blue\", linewidth=1.0, linestyle=\"-\")\n",
    "plot(x, y, color=\"red\", linewidth=1.0, linestyle=\"--\")\n",
    "#plt.title(\"A logarithm modulated sinusoid\")\n",
    "plt.show()"
   ]
  },
  {
   "cell_type": "code",
   "execution_count": null,
   "metadata": {},
   "outputs": [],
   "source": []
  },
  {
   "cell_type": "code",
   "execution_count": 76,
   "metadata": {},
   "outputs": [
    {
     "data": {
      "image/png": "[encoded data removed]",
      "text/plain": [
       "Figure(PyObject <Figure size 640x480 with 1 Axes>)"
      ]
     },
     "metadata": {},
     "output_type": "display_data"
    },
    {
     "data": {
      "image/png": "[encoded data removed]",
      "text/plain": [
       "Figure(PyObject <Figure size 640x480 with 1 Axes>)"
      ]
     },
     "execution_count": 76,
     "metadata": {},
     "output_type": "execute_result"
    }
   ],
   "source": [
    "using PyPlot\n",
    "using PyCall\n",
    "@pyimport math\n",
    "@pyimport numpy as np\n",
    "\n",
    "#@pyimport matplotlib.pyplot as plot\n",
    "x = [2:30;]\n",
    "#y = (np.pi * x) + 2\n",
    "#y = log(x * 2)\n",
    "y = log(2)*x/4\n",
    "#f(x) = log(x/4))\n",
    "p = plot(x,y)\n",
    "\n",
    "xlabel(\"X\")\n",
    "ylabel(\"Y=(log(2)*x)/4\")\n",
    "title(\"Your Title Goes Here\")\n",
    "grid(\"on\")\n",
    "gcf() # Needed by IJulia to display plot"
   ]
  },
  {
   "cell_type": "code",
   "execution_count": 70,
   "metadata": {},
   "outputs": [
    {
     "ename": "LoadError",
     "evalue": "syntax: invalid character literal",
     "output_type": "error",
     "traceback": [
      "syntax: invalid character literal",
      ""
     ]
    }
   ],
   "source": [
    "using PyPlot\n",
    "using PyCall\n",
    "@pyimport math\n",
    "@pyimport numpy as np\n",
    "\n",
    "fig=figure(1, figsize=(7,7))\n",
    "ax = fig.gca(projection='3d')\n",
    "ax.scatter(FH[:,0],FH[:,1],FH[:,2],s=0.5)\n",
    "\n",
    "# plotting white points\n",
    "MAX = 3 # I wanted -3 to 3 in each direction\n",
    "for direction in (-1, 1):\n",
    "    for point in diag(direction * MAX * array([1,1,1])):\n",
    "        ax.plot([point[0]], [point[1]], [point[2]], 'w')\n",
    "\n",
    "show()"
   ]
  },
  {
   "cell_type": "code",
   "execution_count": 69,
   "metadata": {},
   "outputs": [
    {
     "ename": "LoadError",
     "evalue": "syntax: invalid character literal",
     "output_type": "error",
     "traceback": [
      "syntax: invalid character literal",
      ""
     ]
    }
   ],
   "source": [
    "using PyPlot\n",
    "using PyCall\n",
    "@pyimport math\n",
    "@pyimport numpy as np\n",
    "#from mpl_toolkits.axes_grid1 import make_axes_locatable\n",
    "\n",
    "x = np.linspace(0,100,101)\n",
    "X, Y = np.meshgrid(x,x)\n",
    "data = np.sin(X/2.3)*np.cos(Y/2.7)*np.cos(X*Y/20.)\n",
    "\n",
    "#fig = plot.figure(figsize=(10,5))\n",
    "ax1=fig.add_subplot(121)\n",
    "ax2=fig.add_subplot(122)\n",
    "#plot.subplots_adjust(wspace = 0.33 )\n",
    "\n",
    "heatmap = ax1.pcolor(data, cmap=\"RdPu\")\n",
    "resmap =  ax2.scatter(X,Y, c=data, cmap=\"YlGnBu\",edgecolors='none',alpha=0.5)\n",
    "\n",
    "\n",
    "for ax in [ax1,ax2]:\n",
    "    ax.set_frame_on(False)\n",
    "\n",
    "    ax.set_aspect('equal')\n",
    "\n",
    "    ax.invert_yaxis()\n",
    "    ax.xaxis.tick_top()\n",
    "\n",
    "    ax.set_xmargin(0)\n",
    "    ax.set_ymargin(0)\n",
    "\n",
    "    ax.grid(False)\n",
    "\n",
    "    for t in ax.xaxis.get_major_ticks():\n",
    "        t.tick1On = False\n",
    "        t.tick2On = False\n",
    "    for t in ax.yaxis.get_major_ticks():\n",
    "        t.tick1On = False\n",
    "        t.tick2On = False\n",
    "\n",
    "    ax.set_xlim([x[0],x[-1]])\n",
    "    ax.set_ylim([x[0],x[-1]])\n",
    "\n",
    "\n",
    "#divider1 = make_axes_locatable(ax1)       \n",
    "#cax1 = divider1.append_axes(\"right\", size=\"5%\", pad=0.05)\n",
    "#plt.colorbar(heatmap,cax=cax1)\n",
    "\n",
    "#divider2 = make_axes_locatable(ax2)       \n",
    "#cax2 = divider2.append_axes(\"right\", size=\"5%\", pad=0.05)\n",
    "#plt.colorbar(resmap,cax=cax2)\n",
    "\n",
    "plot.show()"
   ]
  },
  {
   "cell_type": "code",
   "execution_count": 99,
   "metadata": {},
   "outputs": [
    {
     "data": {
      "image/png": "[encoded data removed]",
      "text/plain": [
       "Figure(PyObject <Figure size 640x480 with 1 Axes>)"
      ]
     },
     "metadata": {},
     "output_type": "display_data"
    },
    {
     "data": {
      "image/png": "[encoded data removed]",
      "text/plain": [
       "Figure(PyObject <Figure size 640x480 with 1 Axes>)"
      ]
     },
     "execution_count": 99,
     "metadata": {},
     "output_type": "execute_result"
    }
   ],
   "source": [
    "using PyPlot\n",
    "using PyCall\n",
    "@pyimport math\n",
    "@pyimport numpy as np\n",
    "#@pyimport matplotlib.pyplot as plt\n",
    "x = np.linspace(np.euler_gamma,8*np.pi^2/log(2),40); y = np.log(np.log(x/np.exp(4)));\n",
    "#x = log(2 * (x/4))\n",
    "#y = loglog(x)\n",
    "p = plot(x, y)\n",
    "\n",
    "#plot(f, 0.0, 30.0)\n",
    "\n",
    "grid(\"on\")\n",
    "gcf() # Needed by IJulia to display plot\n",
    "\n"
   ]
  },
  {
   "cell_type": "code",
   "execution_count": 60,
   "metadata": {},
   "outputs": [
    {
     "data": {
      "image/png": "[encoded data removed]",
      "text/plain": [
       "Figure(PyObject <Figure size 640x480 with 1 Axes>)"
      ]
     },
     "metadata": {},
     "output_type": "display_data"
    },
    {
     "data": {
      "image/png": "[encoded data removed]",
      "text/plain": [
       "Figure(PyObject <Figure size 640x480 with 1 Axes>)"
      ]
     },
     "execution_count": 60,
     "metadata": {},
     "output_type": "execute_result"
    }
   ],
   "source": [
    "using PyPlot\n",
    "using PyCall\n",
    "@pyimport math\n",
    "@pyimport numpy as np\n",
    "x = np.linspace(0, 34)\n",
    "#x = np.linspace(np.euler_gamma,8*np.pi^2/log(2),40)\n",
    "#y = np.exp(2)*x\n",
    "y = np.log(np.power(2,(x/4)))\n",
    "y1 = np.log(np.log(np.power(2,(x/4))))\n",
    "#y1 = np.exp(np.power(2,(x/4)))\n",
    "p = plot(x,y)\n",
    "p1 = plot(x,y1)\n",
    "xlabel(\"X\")\n",
    "ylabel(\"Y\")\n",
    "title(\"log(2^(x/4)) vs exp(2^(x/4)\")\n",
    "grid(\"on\")\n",
    "gcf() # Needed by IJulia to display plot"
   ]
  },
  {
   "cell_type": "code",
   "execution_count": 40,
   "metadata": {},
   "outputs": [
    {
     "ename": "ArgumentError",
     "evalue": "ArgumentError: Package PyPlot not found in current path:\n- Run `import Pkg; Pkg.add(\"PyPlot\")` to install the PyPlot package.\n",
     "output_type": "error",
     "traceback": [
      "ArgumentError: Package PyPlot not found in current path:\n- Run `import Pkg; Pkg.add(\"PyPlot\")` to install the PyPlot package.\n",
      "",
      "Stacktrace:",
      " [1] require(::Module, ::Symbol) at ./loading.jl:823",
      " [2] top-level scope at In[40]:1"
     ]
    }
   ],
   "source": [
    "using PyPlot\n",
    "using PyCall\n",
    "@pyimport math\n",
    "@pyimport numpy as np\n",
    "#####################\n",
    "##  2x2 Plot Grid  ##\n",
    "#####################\n",
    "fig = figure(\"pyplot_subplot_mixed\",figsize=(10,10)) # Create a new blank figure\n",
    "fig.set_figheight(7) # Doesn't work\n",
    "fig.set_figwidth(3) # Doesn't work\n",
    "subplot(221) # Create the 1st axis of a 2x2 arrax of axes\n",
    "grid(\"on\") # Create a grid on the axis\n",
    "title(\"221\") # Give the most recent axis a title\n",
    "subplot(222,polar=\"true\") # Create a plot and make it a polar plot, 2nd axis of 2x2 axis grid\n",
    "x = np.linspace(0, 2*np.pi)\n",
    "#x = np.linspace(np.euler_gamma,8*np.pi^2/log(2),40)\n",
    "#y = np.exp(2)*x\n",
    "y = np.log(np.power(2,(x/4)))\n",
    "p = plot(x,y)\n",
    "title(\"222\")\n",
    "ax = subplot(223,polar=\"true\") # Create a plot and make it a polar plot, 3rd axis of 2x2 axis grid\n",
    "ax.set_theta_zero_location(\"N\") # Set 0 degrees to the top of the plot\n",
    "ax.set_theta_direction(-1) # Switch the polar plot to clockwise\n",
    "title(\"223\")\n",
    "subplot(224) # Create the 4th axis of a 2x2 arrax of axes\n",
    "p = plot(x,y)\n",
    "xlabel(\"This is an X axis\")\n",
    "ylabel(\"This is a y axis\")\n",
    "title(\"224\")\n",
    "x = np.linspace(0, 34)\n",
    "#x = np.linspace(np.euler_gamma,8*np.pi^2/log(2),40)\n",
    "#y = np.exp(2)*x\n",
    "y = np.log(np.power(2,(x/4)))\n",
    "p = plot(x,y)\n",
    "fig.canvas.draw() # Update the figure\n",
    "suptitle(\"2x2 Subplot\")\n",
    "\n",
    "###################\n",
    "##  Column Plot  ##\n",
    "###################\n",
    "fig = figure(\"pyplot_subplot_column\",figsize=(10,10))\n",
    "subplot(311) # Create the 1st axis of a 3x1 array of axes\n",
    "title(\"311\")\n",
    "subplot(312) # Create the 2nd axis of a 3x1 arrax of axes\n",
    "p = plot(x,y)\n",
    "\n",
    "ax = gca() # Get the handle of the current axis\n",
    "ax.set_yscale(\"log\") # Set the y axis to a logarithmic scale\n",
    "grid(\"on\")\n",
    "ylabel(\"Log Scale\")\n",
    "title(\"312\")\n",
    "subplot(313) # Create the 3rd axis of a 3x1 array of axes\n",
    "p = plot(x,y)\n",
    "ax = gca()\n",
    "ax.set_xscale(\"log\") # Set the x axis to a logarithmic scale\n",
    "xlabel(\"Log Scale\")\n",
    "title(\"313\")\n",
    "fig.canvas.draw() # Update the figure\n",
    "suptitle(\"3x1 Subplot\")\n",
    "\n",
    "###################\n",
    "##  Shared Axis  ##\n",
    "###################\n",
    "fig = figure(\"pyplot_subplot_touching\",figsize=(10,10))\n",
    "subplots_adjust(hspace=0.0) # Set the vertical spacing between axes\n",
    "subplot(311) # Create the 1st axis of a 3x1 array of axes\n",
    "p = plot(x,y)\n",
    "ax1 = gca()\n",
    "ax1.set_xscale(\"log\") # Set the x axis to a logarithmic scale\n",
    "setp(ax1.get_xticklabels(),visible=false) # Disable x tick labels\n",
    "grid(\"on\")\n",
    "title(\"Title\")\n",
    "yticks(0.1:0.2:0.9) # Set the y-tick range and step size, 0.1 to 0.9 in increments of 0.2\n",
    "ylim(0.0,1.0) # Set the y-limits from 0.0 to 1.0\n",
    "subplot(312,sharex=ax1) # Create the 2nd axis of a 3x1 array of axes\n",
    "p = plot(x,y)\n",
    "ax2 = gca()\n",
    "ax2.set_xscale(\"log\") # Set the x axis to a logarithmic scale\n",
    "setp(ax2.get_xticklabels(),visible=false) # Disable x tick labels\n",
    "grid(\"on\")\n",
    "ylabel(\"Log Scale\")\n",
    "yticks(0.1:0.2:0.9)\n",
    "ylim(0.0,1.0)\n",
    "subplot(313,sharex=ax2) # Create the 3rd axis of a 3x1 array of axes\n",
    "p = plot(x,y)\n",
    "ax3 = gca()\n",
    "ax3.set_xscale(\"log\") # Set the x axis to a logarithmic scale\n",
    "grid(\"on\")\n",
    "xlabel(\"Log Scale\")\n",
    "yticks(0.1:0.2:0.9)\n",
    "ylim(0.0,1.0)\n",
    "p = plot(x,y)\n",
    "fig.canvas.draw() # Update the figure\n",
    "suptitle(\"3x1 Shared Axis\")"
   ]
  },
  {
   "cell_type": "code",
   "execution_count": 41,
   "metadata": {},
   "outputs": [
    {
     "ename": "ArgumentError",
     "evalue": "ArgumentError: Package PyCall not found in current path:\n- Run `import Pkg; Pkg.add(\"PyCall\")` to install the PyCall package.\n",
     "output_type": "error",
     "traceback": [
      "ArgumentError: Package PyCall not found in current path:\n- Run `import Pkg; Pkg.add(\"PyCall\")` to install the PyCall package.\n",
      "",
      "Stacktrace:",
      " [1] require(::Module, ::Symbol) at ./loading.jl:823",
      " [2] top-level scope at In[41]:1"
     ]
    }
   ],
   "source": [
    "using PyCall\n",
    "@pyimport numpy as np\n",
    "println(big((np.pi)))"
   ]
  },
  {
   "cell_type": "code",
   "execution_count": 75,
   "metadata": {},
   "outputs": [
    {
     "name": "stdout",
     "output_type": "stream",
     "text": [
      "2.718281828459045\n"
     ]
    }
   ],
   "source": [
    "using PyCall\n",
    "@pyimport numpy as np\n",
    "println(np.e)\n",
    "#println(big((np.e)))"
   ]
  },
  {
   "cell_type": "code",
   "execution_count": 74,
   "metadata": {},
   "outputs": [
    {
     "name": "stdout",
     "output_type": "stream",
     "text": [
      "0.5772156649015329\n"
     ]
    }
   ],
   "source": [
    "using PyCall\n",
    "@pyimport numpy as np\n",
    "println(np.euler_gamma)\n",
    "#println(big((np.euler_gamma)))"
   ]
  },
  {
   "cell_type": "code",
   "execution_count": 78,
   "metadata": {},
   "outputs": [
    {
     "name": "stdout",
     "output_type": "stream",
     "text": [
      "3.141592653589793\n"
     ]
    }
   ],
   "source": [
    "using PyCall\n",
    "@pyimport numpy as np\n",
    "println(np.pi)"
   ]
  },
  {
   "cell_type": "markdown",
   "metadata": {},
   "source": [
    "Gradually, more functionality will be added into this package."
   ]
  }
 ],
 "metadata": {
  "kernelspec": {
   "display_name": "Julia 1.1.0",
   "language": "julia",
   "name": "julia-1.1"
  },
  "language_info": {
   "file_extension": ".jl",
   "mimetype": "application/julia",
   "name": "julia",
   "version": "1.1.0"
  }
 },
 "nbformat": 4,
 "nbformat_minor": 2
}
